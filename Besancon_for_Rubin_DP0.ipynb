{
  "nbformat": 4,
  "nbformat_minor": 0,
  "metadata": {
    "colab": {
      "name": "Besancon for Rubin DP0.ipynb",
      "provenance": [],
      "collapsed_sections": [],
      "authorship_tag": "ABX9TyMg2JJzNQB/CXwp2p9cm3jA",
      "include_colab_link": true
    },
    "kernelspec": {
      "name": "python3",
      "display_name": "Python 3"
    },
    "language_info": {
      "name": "python"
    }
  },
  "cells": [
    {
      "cell_type": "markdown",
      "metadata": {
        "id": "view-in-github",
        "colab_type": "text"
      },
      "source": [
        "<a href=\"https://colab.research.google.com/github/krislars/BesanconJupyter/blob/main/Besancon_for_Rubin_DP0.ipynb\" target=\"_parent\"><img src=\"https://colab.research.google.com/assets/colab-badge.svg\" alt=\"Open In Colab\"/></a>"
      ]
    },
    {
      "cell_type": "markdown",
      "metadata": {
        "id": "ZdJ0pyuqMWgd"
      },
      "source": [
        "# Besancon for Rubin DP0\n",
        "\n",
        "By: Kristen Larson larsonk@wwu.edu\n",
        "\n",
        "This notebook demonstrates how to create a Besançon stellar model within the Google Colab or JupyterLab environment.  Do not attempt to \"run all\" before entering your Besançon username and password below.  You will need to visit https://model.obs-besancon.fr/ws/subscribe.php to make an account for yourself if you do not have one already. \n",
        "\n",
        "(The sample model created here represents the brightest stars in the Rubin Observatory DP0 field.  In particular, I explicitly call for no extinction in the model.)\n",
        "\n",
        "Questions and suggestions are welcome!\n",
        "\n",
        "Tested Oct 5, 2021"
      ]
    },
    {
      "cell_type": "code",
      "metadata": {
        "id": "Nmq2yPfgIklz"
      },
      "source": [
        "import urllib.request\n",
        "from astropy.io import ascii\n",
        "from matplotlib import pyplot as plt\n",
        "from matplotlib import colors"
      ],
      "execution_count": 21,
      "outputs": []
    },
    {
      "cell_type": "markdown",
      "metadata": {
        "id": "NajDCzIVOkzL"
      },
      "source": [
        "The python script by Raphael Melior that is provided at the Besançon website uses an operating system command that does not work on Google colab and causes the script to crash.  I have posted a version to GitHub that does not have the problem call.  The next two lines download them both into your Google Colab working space."
      ]
    },
    {
      "cell_type": "code",
      "metadata": {
        "id": "rZGy3nbXJDM4"
      },
      "source": [
        "urllib.request.urlretrieve('https://model.obs-besancon.fr/tools/galmod_client.py', 'galmod_client.py')"
      ],
      "execution_count": null,
      "outputs": []
    },
    {
      "cell_type": "code",
      "metadata": {
        "id": "kPOWyqhIJGZZ"
      },
      "source": [
        "urllib.request.urlretrieve('https://raw.githubusercontent.com/krislars/BesanconJupyter/main/galmod_client_nouser.py', 'galmod_client_nouser.py')"
      ],
      "execution_count": null,
      "outputs": []
    },
    {
      "cell_type": "markdown",
      "metadata": {
        "id": "_69xiKE3REP7"
      },
      "source": [
        "Enter your Besançon username and password between the quotes in the cell below.  They will be used in subsequent cells."
      ]
    },
    {
      "cell_type": "code",
      "metadata": {
        "id": "uWvxGHhsJsLT"
      },
      "source": [
        "myUser = \" \"  # Your username goes here\n",
        "myPass = \" \" # Your password goes here"
      ],
      "execution_count": 4,
      "outputs": []
    },
    {
      "cell_type": "markdown",
      "metadata": {
        "id": "Cdy5lJU9SCuF"
      },
      "source": [
        "If you have used the web form to select parameters for a Besançon run, you may wonder how to convert your choices to command-line variables.  I found that logging in at the direct web access site https://model.obs-besancon.fr/ws/ and clicking on a job number, I could see the proper varable names for each of my settings.  In particular, note that <code>KLEC 17</code> selects the SDSS+IR filters."
      ]
    },
    {
      "cell_type": "markdown",
      "metadata": {
        "id": "IuAiGE4YRX5p"
      },
      "source": [
        "The first time I run the python script, I use the <code>--create</code> flag so I can check the model and add more parameters, if necessary.  I plan to use the results of this model to find extinction in a dataset, so I explicitly call for no extinction in the model."
      ]
    },
    {
      "cell_type": "code",
      "metadata": {
        "id": "cZTUktJAJup5"
      },
      "source": [
        "%run galmod_client_nouser.py --url \"https://model.obs-besancon.fr/ws/\" --user $myUser --pass $myPass --create -p KLEH 2 -p Coor1_min 60 -p Coor1_max 60 -p Coor2_min -37 -p Coor2_max -37 -p SOLI 1 -p KLEC 17 -p acol u-g,g-r,g-i,g-z -p ref_filter g -p KLEP 0 -p ADIF 0 -p SIGAV 0"
      ],
      "execution_count": null,
      "outputs": []
    },
    {
      "cell_type": "markdown",
      "metadata": {
        "id": "j-hVsgq5KMWk"
      },
      "source": [
        "Output of the cell above includes the number of your job at the very top.  Enter that number in the cell below."
      ]
    },
    {
      "cell_type": "code",
      "metadata": {
        "id": "ktrgqIoxKODQ"
      },
      "source": [
        "myJob = 29495     # Your job number goes here"
      ],
      "execution_count": 6,
      "outputs": []
    },
    {
      "cell_type": "markdown",
      "metadata": {
        "id": "kWth66OoUI_c"
      },
      "source": [
        "The next two lines modify the same job with more variables.  In the first line, I limit the magnitude, and the second populates other fields with the correct number of varables to fix the error in the output above."
      ]
    },
    {
      "cell_type": "code",
      "metadata": {
        "id": "Ncz5zg4WKVcn"
      },
      "source": [
        "%run galmod_client_nouser.py --url \"https://model.obs-besancon.fr/ws/\" --user $myUser --pass $myPass --job $myJob -p band_max 27.0,27.0,27.0,27.0,27.0,99.0,99.0,99.0 -p band_min 15.0,15.0,15.0,15.0,15.0,0,0,0  "
      ],
      "execution_count": null,
      "outputs": []
    },
    {
      "cell_type": "code",
      "metadata": {
        "id": "8gaIFTLCLg2j"
      },
      "source": [
        "%run galmod_client_nouser.py --url \"https://model.obs-besancon.fr/ws/\" --user $myUser --pass $myPass --job $myJob -p errBand_A 0.02,0.02,0.02,0.02,0.02,0.02,0.02,0.02 -p errBand_B 0,0,0,0,0,0,0,0 -p errBand_C 0,0,0,0,0,0,0,0 -p band_step 1,1,1,1,1,1,1,1"
      ],
      "execution_count": null,
      "outputs": []
    },
    {
      "cell_type": "markdown",
      "metadata": {
        "id": "EDBh6TVxUZvX"
      },
      "source": [
        "Finally I am satisfied, so I use the <code>--run</code> flag."
      ]
    },
    {
      "cell_type": "code",
      "metadata": {
        "id": "Uhc25CnXLirT"
      },
      "source": [
        "%run galmod_client_nouser.py --url \"https://model.obs-besancon.fr/ws/\" --user $myUser --pass $myPass --job $myJob --run"
      ],
      "execution_count": null,
      "outputs": []
    },
    {
      "cell_type": "markdown",
      "metadata": {
        "id": "AOOBOqy1VDK1"
      },
      "source": [
        "This next simple line checks the status of the job, and if finished, provides the output file link."
      ]
    },
    {
      "cell_type": "code",
      "metadata": {
        "id": "g0vlx9fDLu-J"
      },
      "source": [
        "%run galmod_client_nouser.py --url \"https://model.obs-besancon.fr/ws/\" --user $myUser --pass $myPass --job $myJob"
      ],
      "execution_count": null,
      "outputs": []
    },
    {
      "cell_type": "markdown",
      "metadata": {
        "id": "n6ZpPIgXWy8J"
      },
      "source": [
        "When the job is finished, note the ftp link in the output and copy that link between the quotes in the cell below."
      ]
    },
    {
      "cell_type": "code",
      "metadata": {
        "id": "49zUTlo1MDPY"
      },
      "source": [
        "model=ascii.read(\" \") # Your ftp output goes here, something like \"ftp://ftp.obs-besancon.../output"
      ],
      "execution_count": 12,
      "outputs": []
    },
    {
      "cell_type": "markdown",
      "metadata": {
        "id": "Od7E87IWVRKe"
      },
      "source": [
        "The output will be in a standard Astropy table..."
      ]
    },
    {
      "cell_type": "code",
      "metadata": {
        "id": "BLTr0hHHVMmT"
      },
      "source": [
        "model"
      ],
      "execution_count": null,
      "outputs": []
    },
    {
      "cell_type": "markdown",
      "metadata": {
        "id": "2kTDSZaTVYut"
      },
      "source": [
        "...which means you can do fun things, like plot it."
      ]
    },
    {
      "cell_type": "code",
      "metadata": {
        "colab": {
          "base_uri": "https://localhost:8080/",
          "height": 281
        },
        "id": "Hy5id0ksVYL-",
        "outputId": "3d393264-ce5d-4b55-86e5-3d55196f0f2f"
      },
      "source": [
        "plt.hist2d(model['g-i']-model['g-r'],model['g-r'],bins=100,norm=colors.LogNorm())\n",
        "plt.xlabel('r$-$i')\n",
        "plt.ylabel('g$-$r')\n",
        "plt.show()"
      ],
      "execution_count": 24,
      "outputs": [
        {
          "output_type": "display_data",
          "data": {
            "image/png": "[encoded data removed]",
            "text/plain": [
              "<Figure size 432x288 with 1 Axes>"
            ]
          },
          "metadata": {
            "needs_background": "light"
          }
        }
      ]
    },
    {
      "cell_type": "markdown",
      "metadata": {
        "id": "jH_yZwfgVgPR"
      },
      "source": [
        "If you like your model, you should save it to disk before the output expires on the Besançon servers.  "
      ]
    },
    {
      "cell_type": "code",
      "metadata": {
        "id": "DJtUKrNzQpI5"
      },
      "source": [
        "from google.colab import files\n",
        "\n",
        "ascii.write(model,'output.txt',overwrite=True)\n",
        "\n",
        "files.download('output.txt')"
      ],
      "execution_count": null,
      "outputs": []
    },
    {
      "cell_type": "markdown",
      "metadata": {
        "id": "XELCzFqkyJnJ"
      },
      "source": [
        "To learn more how to work with files on your local machine or on your Google drive instead of just on the ephemeral workspace that opens with Colab, check out the examples at https://colab.research.google.com/notebooks/io.ipynb."
      ]
    }
  ]
}