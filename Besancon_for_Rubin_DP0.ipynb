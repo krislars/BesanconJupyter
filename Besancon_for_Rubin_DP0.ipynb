{
  "nbformat": 4,
  "nbformat_minor": 0,
  "metadata": {
    "colab": {
      "name": "Besancon for Rubin DP0.ipynb",
      "provenance": [],
      "collapsed_sections": [],
      "authorship_tag": "ABX9TyMzOszGSDz5/hGqqPB/5f3x",
      "include_colab_link": true
    },
    "kernelspec": {
      "name": "python3",
      "display_name": "Python 3"
    },
    "language_info": {
      "name": "python"
    }
  },
  "cells": [
    {
      "cell_type": "markdown",
      "metadata": {
        "id": "view-in-github",
        "colab_type": "text"
      },
      "source": [
        "<a href=\"https://colab.research.google.com/github/krislars/BesanconJupyter/blob/main/Besancon_for_Rubin_DP0.ipynb\" target=\"_parent\"><img src=\"https://colab.research.google.com/assets/colab-badge.svg\" alt=\"Open In Colab\"/></a>"
      ]
    },
    {
      "cell_type": "markdown",
      "metadata": {
        "id": "ZdJ0pyuqMWgd"
      },
      "source": [
        "# Besancon for Rubin DP0\n",
        "\n",
        "By: Kristen Larson larsonk@wwu.edu\n",
        "\n",
        "This notebook demonstrates how to create a Besançon stellar model within the Google Colab or JupyterLab environment.  Do not attempt to \"run all\" before entering your Besançon username and password below.  You will need to visit https://model.obs-besancon.fr/ws/subscribe.php to make an account for yourself if you do not have one already. \n",
        "\n",
        "Questions and suggestions are welcome!\n",
        "\n",
        "Tested Oct 14, 2021"
      ]
    },
    {
      "cell_type": "code",
      "metadata": {
        "id": "Nmq2yPfgIklz"
      },
      "source": [
        "import urllib.request\n",
        "from astropy.io import ascii\n",
        "from matplotlib import pyplot as plt\n",
        "from matplotlib import colors"
      ],
      "execution_count": 1,
      "outputs": []
    },
    {
      "cell_type": "markdown",
      "metadata": {
        "id": "NajDCzIVOkzL"
      },
      "source": [
        "The python script by Raphael Melior that is provided at the Besançon website uses an operating system command that does not work on Google colab and causes the script to crash.  I have posted a version to GitHub that does not have the problem call.  The next two lines download them both into your Google Colab working space."
      ]
    },
    {
      "cell_type": "code",
      "metadata": {
        "id": "rZGy3nbXJDM4"
      },
      "source": [
        "urllib.request.urlretrieve('https://model.obs-besancon.fr/tools/galmod_client.py', 'galmod_client.py')"
      ],
      "execution_count": null,
      "outputs": []
    },
    {
      "cell_type": "code",
      "metadata": {
        "id": "kPOWyqhIJGZZ"
      },
      "source": [
        "urllib.request.urlretrieve('https://raw.githubusercontent.com/krislars/BesanconJupyter/main/galmod_client_nouser.py', 'galmod_client_nouser.py')"
      ],
      "execution_count": null,
      "outputs": []
    },
    {
      "cell_type": "markdown",
      "metadata": {
        "id": "_69xiKE3REP7"
      },
      "source": [
        "Enter your Besançon username and password between the quotes in the cell below.  They will be used in subsequent cells."
      ]
    },
    {
      "cell_type": "code",
      "metadata": {
        "id": "uWvxGHhsJsLT"
      },
      "source": [
        "myUser = \" \"  # Your username goes here\n",
        "myPass = \" \" # Your password goes here"
      ],
      "execution_count": 4,
      "outputs": []
    },
    {
      "cell_type": "markdown",
      "metadata": {
        "id": "Cdy5lJU9SCuF"
      },
      "source": [
        "If you have used the web form to select parameters for a Besançon run, you may wonder how to convert your choices to command-line variables.  I found that logging in at the direct web access site https://model.obs-besancon.fr/ws/ and clicking on a job number, I could see the proper varable names for each of my settings.  In particular, note that <code>KLEC 17</code> selects the SDSS+IR filters."
      ]
    },
    {
      "cell_type": "markdown",
      "metadata": {
        "id": "IuAiGE4YRX5p"
      },
      "source": [
        "The first time I run the python script, I use the <code>--create</code> flag so I can check the model and add more parameters, if necessary.  I plan to use the results of this model to find extinction in a dataset, so I explicitly call for no extinction in the model with <code>ADIF 0</code> and <code>SIGAV 0</code>."
      ]
    },
    {
      "cell_type": "code",
      "metadata": {
        "id": "cZTUktJAJup5"
      },
      "source": [
        "%run galmod_client_nouser.py --url \"https://model.obs-besancon.fr/ws/\" --user $myUser --pass $myPass --create -p KLEH 2 -p Coor1_min 61.5 -p Coor1_max 62.5 -p Coor2_min -37.5 -p Coor2_max -36.5 -p SOLI 1 -p KLEC 17 -p acol u-g,g-r,r-i,i-z -p ref_filter g -p KLEP 0 -p ADIF 0 -p SIGAV 0"
      ],
      "execution_count": null,
      "outputs": []
    },
    {
      "cell_type": "markdown",
      "metadata": {
        "id": "j-hVsgq5KMWk"
      },
      "source": [
        "Output of the cell above includes the number of your job at the very top.  Enter that number in the cell below."
      ]
    },
    {
      "cell_type": "code",
      "metadata": {
        "id": "ktrgqIoxKODQ"
      },
      "source": [
        "myJob =      # Your job number goes here"
      ],
      "execution_count": 29,
      "outputs": []
    },
    {
      "cell_type": "markdown",
      "metadata": {
        "id": "kWth66OoUI_c"
      },
      "source": [
        "The next two lines modify the same job with more variables. The first line limits the magnitude and the second sets the uncertainty and populates other fields with the correct number of varables to fix the error noted in the output above."
      ]
    },
    {
      "cell_type": "code",
      "metadata": {
        "id": "Ncz5zg4WKVcn"
      },
      "source": [
        "%run galmod_client_nouser.py --url \"https://model.obs-besancon.fr/ws/\" --user $myUser --pass $myPass --job $myJob -p band_max 99.0,22.0,99.0,99.0,99.0,99.0,99.0,99.0 -p band_min 0.0,16.0,0.0,0.0,0.0,0.0,0.0,0.0  "
      ],
      "execution_count": null,
      "outputs": []
    },
    {
      "cell_type": "code",
      "metadata": {
        "id": "8gaIFTLCLg2j"
      },
      "source": [
        "%run galmod_client_nouser.py --url \"https://model.obs-besancon.fr/ws/\" --user $myUser --pass $myPass --job $myJob -p errBand_A 0,0,0,0,0,0,0,0 -p errBand_B 0,0,0,0,0,0,0,0 -p errBand_C 0,0,0,0,0,0,0,0 -p band_step 1,1,1,1,1,1,1,1"
      ],
      "execution_count": null,
      "outputs": []
    },
    {
      "cell_type": "markdown",
      "metadata": {
        "id": "EDBh6TVxUZvX"
      },
      "source": [
        "Finally I am satisfied, so I use the <code>--run</code> flag."
      ]
    },
    {
      "cell_type": "code",
      "metadata": {
        "id": "Uhc25CnXLirT"
      },
      "source": [
        "%run galmod_client_nouser.py --url \"https://model.obs-besancon.fr/ws/\" --user $myUser --pass $myPass --job $myJob --run"
      ],
      "execution_count": null,
      "outputs": []
    },
    {
      "cell_type": "markdown",
      "metadata": {
        "id": "AOOBOqy1VDK1"
      },
      "source": [
        "This next simple line checks the status of the job, and if finished, provides the output file link."
      ]
    },
    {
      "cell_type": "code",
      "metadata": {
        "id": "g0vlx9fDLu-J"
      },
      "source": [
        "%run galmod_client_nouser.py --url \"https://model.obs-besancon.fr/ws/\" --user $myUser --pass $myPass --job $myJob"
      ],
      "execution_count": null,
      "outputs": []
    },
    {
      "cell_type": "markdown",
      "metadata": {
        "id": "n6ZpPIgXWy8J"
      },
      "source": [
        "When the job is finished, note the ftp link in the output and copy that link between the quotes in the cell below."
      ]
    },
    {
      "cell_type": "code",
      "metadata": {
        "id": "49zUTlo1MDPY"
      },
      "source": [
        "model=ascii.read(\"https://model.obs-besancon.fr/result/ws.AABzRw.8c332cdc55e7812c/output\") # Your ftp output goes here, something like \"ftp://ftp.obs-besancon.../output"
      ],
      "execution_count": 35,
      "outputs": []
    },
    {
      "cell_type": "markdown",
      "metadata": {
        "id": "Od7E87IWVRKe"
      },
      "source": [
        "The output will be in a standard Astropy table..."
      ]
    },
    {
      "cell_type": "code",
      "metadata": {
        "id": "BLTr0hHHVMmT",
        "colab": {
          "base_uri": "https://localhost:8080/",
          "height": 539
        },
        "outputId": "959d4a7f-0de8-4556-83be-300d3bf5bd5d"
      },
      "source": [
        "model"
      ],
      "execution_count": 36,
      "outputs": [
        {
          "output_type": "execute_result",
          "data": {
            "text/html": [
              "<div><i>Table length=2230</i>\n",
              "<table id=\"table139962774943056\" class=\"table-striped table-bordered table-condensed\">\n",
              "<thead><tr><th>g</th><th>u-g</th><th>g-r</th><th>r-i</th><th>i-z</th><th>mux</th><th>muy</th><th>HRV</th><th>UU</th><th>VV</th><th>WW</th><th>Px</th><th>Mv</th><th>CL</th><th>Typ</th><th>Teff</th><th>logg</th><th>Pop</th><th>Age</th><th>Mass</th><th>Mbol</th><th>Radius</th><th>[M/H]</th><th>[a/Fe]</th><th>longitude</th><th>latitude</th><th>RAJ2000</th><th>DECJ2000</th><th>Dist</th><th>x_Gal</th><th>y_Gal</th><th>z_Gal</th><th>Av</th><th>errPx</th><th>errMux</th><th>errMuy</th><th>errHrv</th><th>errMv</th><th>errMass</th><th>errAge</th><th>errTeff</th><th>errLogg</th><th>errMet</th><th>errAlphaFe</th><th>errBand_g</th><th>errBand_u</th><th>errBand_r</th><th>errBand_i</th><th>errBand_z</th></tr></thead>\n",
              "<thead><tr><th>float64</th><th>float64</th><th>float64</th><th>float64</th><th>float64</th><th>float64</th><th>float64</th><th>float64</th><th>float64</th><th>float64</th><th>float64</th><th>float64</th><th>float64</th><th>int64</th><th>float64</th><th>float64</th><th>float64</th><th>int64</th><th>float64</th><th>float64</th><th>float64</th><th>float64</th><th>float64</th><th>float64</th><th>float64</th><th>float64</th><th>float64</th><th>float64</th><th>float64</th><th>float64</th><th>float64</th><th>float64</th><th>float64</th><th>float64</th><th>float64</th><th>float64</th><th>float64</th><th>float64</th><th>float64</th><th>float64</th><th>float64</th><th>float64</th><th>float64</th><th>float64</th><th>float64</th><th>float64</th><th>float64</th><th>float64</th><th>float64</th></tr></thead>\n",
              "<tr><td>20.249</td><td>3.194</td><td>1.457</td><td>1.398</td><td>0.798</td><td>-26.037</td><td>16.482</td><td>-9.13</td><td>-0.66</td><td>15.63</td><td>-2.87</td><td>0.01029</td><td>14.38</td><td>5</td><td>7.45</td><td>3130.0</td><td>5.08</td><td>3</td><td>1.6404</td><td>0.276</td><td>11.685</td><td>0.142</td><td>-0.179</td><td>-0.001</td><td>239.519867</td><td>-48.37606</td><td>61.13306</td><td>-37.260899</td><td>0.0971</td><td>-8.0327</td><td>-0.0556</td><td>-0.0576</td><td>0.0</td><td>0.0</td><td>1.0</td><td>1.0</td><td>2.0</td><td>0.0</td><td>0.1</td><td>0.1</td><td>50.0</td><td>0.1</td><td>0.1</td><td>0.02</td><td>0.0</td><td>0.0</td><td>0.0</td><td>0.0</td><td>0.0</td></tr>\n",
              "<tr><td>18.951</td><td>2.959</td><td>1.391</td><td>1.331</td><td>0.769</td><td>-12.682</td><td>11.808</td><td>9.55</td><td>-5.4</td><td>0.84</td><td>-11.54</td><td>0.01115</td><td>13.29</td><td>5</td><td>7.4</td><td>3248.0</td><td>4.87</td><td>1</td><td>0.219</td><td>0.066</td><td>10.885</td><td>0.196</td><td>0.086</td><td>-0.026</td><td>239.971237</td><td>-48.267384</td><td>61.271496</td><td>-37.560574</td><td>0.0897</td><td>-8.0299</td><td>-0.0517</td><td>-0.052</td><td>0.0</td><td>0.0</td><td>1.0</td><td>1.0</td><td>2.0</td><td>0.0</td><td>0.1</td><td>0.1</td><td>50.0</td><td>0.1</td><td>0.1</td><td>0.02</td><td>0.0</td><td>0.0</td><td>0.0</td><td>0.0</td><td>0.0</td></tr>\n",
              "<tr><td>16.593</td><td>2.928</td><td>1.304</td><td>0.995</td><td>0.571</td><td>27.998</td><td>75.1</td><td>41.18</td><td>-47.05</td><td>-14.55</td><td>-20.75</td><td>0.01074</td><td>10.92</td><td>5</td><td>7.25</td><td>3388.0</td><td>4.77</td><td>6</td><td>5.9668</td><td>0.475</td><td>9.61</td><td>0.292</td><td>0.272</td><td>0.002</td><td>239.960861</td><td>-47.746986</td><td>61.927879</td><td>-37.550728</td><td>0.0931</td><td>-8.0313</td><td>-0.0542</td><td>-0.0539</td><td>0.0</td><td>0.0</td><td>1.0</td><td>1.0</td><td>2.0</td><td>0.0</td><td>0.1</td><td>0.1</td><td>50.0</td><td>0.1</td><td>0.1</td><td>0.02</td><td>0.0</td><td>0.0</td><td>0.0</td><td>0.0</td><td>0.0</td></tr>\n",
              "<tr><td>18.055</td><td>3.062</td><td>1.345</td><td>1.178</td><td>0.679</td><td>-28.367</td><td>51.578</td><td>28.16</td><td>-26.0</td><td>4.89</td><td>-29.14</td><td>0.00968</td><td>12.12</td><td>5</td><td>7.35</td><td>3328.0</td><td>4.84</td><td>3</td><td>1.3962</td><td>0.206</td><td>10.193</td><td>0.248</td><td>0.071</td><td>0.035</td><td>240.075272</td><td>-48.04641</td><td>61.550606</td><td>-37.629345</td><td>0.1034</td><td>-8.0345</td><td>-0.0599</td><td>-0.0619</td><td>0.0</td><td>0.0</td><td>1.0</td><td>1.0</td><td>2.0</td><td>0.0</td><td>0.1</td><td>0.1</td><td>50.0</td><td>0.1</td><td>0.1</td><td>0.02</td><td>0.0</td><td>0.0</td><td>0.0</td><td>0.0</td><td>0.0</td></tr>\n",
              "<tr><td>18.001</td><td>3.051</td><td>1.324</td><td>1.087</td><td>0.625</td><td>31.556</td><td>-21.811</td><td>-10.83</td><td>8.89</td><td>-11.05</td><td>20.71</td><td>0.00854</td><td>11.82</td><td>5</td><td>7.3</td><td>3506.0</td><td>4.93</td><td>7</td><td>8.5622</td><td>0.396</td><td>9.874</td><td>0.273</td><td>0.046</td><td>0.024</td><td>239.288269</td><td>-48.003254</td><td>61.598965</td><td>-37.102634</td><td>0.117</td><td>-8.04</td><td>-0.0673</td><td>-0.072</td><td>0.0</td><td>0.0</td><td>1.0</td><td>1.0</td><td>2.0</td><td>0.0</td><td>0.1</td><td>0.1</td><td>50.0</td><td>0.1</td><td>0.1</td><td>0.02</td><td>0.0</td><td>0.0</td><td>0.0</td><td>0.0</td><td>0.0</td></tr>\n",
              "<tr><td>21.15</td><td>3.184</td><td>1.446</td><td>1.441</td><td>0.828</td><td>86.313</td><td>63.648</td><td>3.89</td><td>-51.83</td><td>-15.37</td><td>31.21</td><td>0.00804</td><td>14.75</td><td>5</td><td>7.5</td><td>3077.0</td><td>5.08</td><td>6</td><td>5.8721</td><td>0.114</td><td>11.909</td><td>0.13</td><td>-0.18</td><td>0.042</td><td>239.5961</td><td>-48.260765</td><td>61.278408</td><td>-37.310814</td><td>0.1244</td><td>-8.0419</td><td>-0.0714</td><td>-0.0778</td><td>0.0</td><td>0.0</td><td>1.0</td><td>1.0</td><td>2.0</td><td>0.0</td><td>0.1</td><td>0.1</td><td>50.0</td><td>0.1</td><td>0.1</td><td>0.02</td><td>0.0</td><td>0.0</td><td>0.0</td><td>0.0</td><td>0.0</td></tr>\n",
              "<tr><td>20.483</td><td>3.19</td><td>1.466</td><td>1.358</td><td>0.771</td><td>-36.412</td><td>30.023</td><td>0.95</td><td>-5.59</td><td>23.58</td><td>-11.65</td><td>0.00804</td><td>14.07</td><td>5</td><td>7.45</td><td>3046.0</td><td>4.93</td><td>7</td><td>8.5275</td><td>0.25</td><td>11.462</td><td>0.156</td><td>-0.382</td><td>-0.025</td><td>239.610519</td><td>-48.30658</td><td>61.220871</td><td>-37.320713</td><td>0.1244</td><td>-8.0419</td><td>-0.0714</td><td>-0.0779</td><td>0.0</td><td>0.0</td><td>1.0</td><td>1.0</td><td>2.0</td><td>0.0</td><td>0.1</td><td>0.1</td><td>50.0</td><td>0.1</td><td>0.1</td><td>0.02</td><td>0.0</td><td>0.0</td><td>0.0</td><td>0.0</td><td>0.0</td></tr>\n",
              "<tr><td>20.201</td><td>3.054</td><td>1.419</td><td>1.365</td><td>0.786</td><td>36.989</td><td>26.419</td><td>23.56</td><td>-28.76</td><td>-17.78</td><td>-0.89</td><td>0.00831</td><td>13.89</td><td>5</td><td>7.45</td><td>3201.0</td><td>4.86</td><td>5</td><td>4.0348</td><td>0.099</td><td>11.241</td><td>0.17</td><td>-0.071</td><td>0.016</td><td>240.477951</td><td>-48.444637</td><td>61.046318</td><td>-37.896843</td><td>0.1204</td><td>-8.0393</td><td>-0.0695</td><td>-0.0751</td><td>0.0</td><td>0.0</td><td>1.0</td><td>1.0</td><td>2.0</td><td>0.0</td><td>0.1</td><td>0.1</td><td>50.0</td><td>0.1</td><td>0.1</td><td>0.02</td><td>0.0</td><td>0.0</td><td>0.0</td><td>0.0</td><td>0.0</td></tr>\n",
              "<tr><td>19.729</td><td>3.077</td><td>1.456</td><td>1.259</td><td>0.715</td><td>32.516</td><td>-27.556</td><td>48.14</td><td>-9.62</td><td>-48.86</td><td>-22.75</td><td>0.00786</td><td>13.27</td><td>5</td><td>7.4</td><td>3209.0</td><td>5.14</td><td>6</td><td>5.9544</td><td>0.207</td><td>10.816</td><td>0.201</td><td>-0.416</td><td>0.023</td><td>239.78537</td><td>-47.97506</td><td>61.639099</td><td>-37.434982</td><td>0.1272</td><td>-8.0429</td><td>-0.0736</td><td>-0.0795</td><td>0.0</td><td>0.0</td><td>1.0</td><td>1.0</td><td>2.0</td><td>0.0</td><td>0.1</td><td>0.1</td><td>50.0</td><td>0.1</td><td>0.1</td><td>0.02</td><td>0.0</td><td>0.0</td><td>0.0</td><td>0.0</td><td>0.0</td></tr>\n",
              "<tr><td>18.354</td><td>3.062</td><td>1.345</td><td>1.178</td><td>0.679</td><td>4.796</td><td>-55.606</td><td>-13.92</td><td>30.05</td><td>-12.36</td><td>10.82</td><td>0.00813</td><td>12.04</td><td>5</td><td>7.35</td><td>3349.0</td><td>5.19</td><td>6</td><td>6.0305</td><td>0.335</td><td>10.193</td><td>0.248</td><td>0.233</td><td>0.003</td><td>240.049927</td><td>-47.957405</td><td>61.662895</td><td>-37.611996</td><td>0.123</td><td>-8.0411</td><td>-0.0714</td><td>-0.0764</td><td>0.0</td><td>0.0</td><td>1.0</td><td>1.0</td><td>2.0</td><td>0.0</td><td>0.1</td><td>0.1</td><td>50.0</td><td>0.1</td><td>0.1</td><td>0.02</td><td>0.0</td><td>0.0</td><td>0.0</td><td>0.0</td><td>0.0</td></tr>\n",
              "<tr><td>...</td><td>...</td><td>...</td><td>...</td><td>...</td><td>...</td><td>...</td><td>...</td><td>...</td><td>...</td><td>...</td><td>...</td><td>...</td><td>...</td><td>...</td><td>...</td><td>...</td><td>...</td><td>...</td><td>...</td><td>...</td><td>...</td><td>...</td><td>...</td><td>...</td><td>...</td><td>...</td><td>...</td><td>...</td><td>...</td><td>...</td><td>...</td><td>...</td><td>...</td><td>...</td><td>...</td><td>...</td><td>...</td><td>...</td><td>...</td><td>...</td><td>...</td><td>...</td><td>...</td><td>...</td><td>...</td><td>...</td><td>...</td><td>...</td></tr>\n",
              "<tr><td>21.841</td><td>1.447</td><td>0.633</td><td>0.249</td><td>0.118</td><td>0.171</td><td>-1.868</td><td>-4.12</td><td>127.73</td><td>-84.84</td><td>12.44</td><td>0.00011</td><td>6.92</td><td>5</td><td>6.2</td><td>5024.0</td><td>4.84</td><td>9</td><td>13.927</td><td>0.79</td><td>6.704</td><td>0.547</td><td>-1.644</td><td>0.213</td><td>240.32428</td><td>-47.833054</td><td>61.821053</td><td>-37.795418</td><td>9.3364</td><td>-11.103</td><td>-5.4454</td><td>-6.9051</td><td>0.0</td><td>0.0</td><td>1.0</td><td>1.0</td><td>2.0</td><td>0.0</td><td>0.1</td><td>0.1</td><td>50.0</td><td>0.1</td><td>0.1</td><td>0.02</td><td>0.0</td><td>0.0</td><td>0.0</td><td>0.0</td><td>0.0</td></tr>\n",
              "<tr><td>21.657</td><td>1.331</td><td>0.547</td><td>0.21</td><td>0.089</td><td>3.347</td><td>-2.262</td><td>443.27</td><td>-115.95</td><td>-363.2</td><td>-257.06</td><td>0.00011</td><td>6.74</td><td>5</td><td>5.9</td><td>5241.0</td><td>4.74</td><td>9</td><td>13.9844</td><td>0.467</td><td>6.374</td><td>0.578</td><td>-1.288</td><td>0.182</td><td>240.49588</td><td>-47.785385</td><td>61.881786</td><td>-37.910545</td><td>9.3756</td><td>-11.1024</td><td>-5.4826</td><td>-6.9289</td><td>0.0</td><td>0.0</td><td>1.0</td><td>1.0</td><td>2.0</td><td>0.0</td><td>0.1</td><td>0.1</td><td>50.0</td><td>0.1</td><td>0.1</td><td>0.02</td><td>0.0</td><td>0.0</td><td>0.0</td><td>0.0</td><td>0.0</td></tr>\n",
              "<tr><td>19.045</td><td>0.956</td><td>0.216</td><td>0.069</td><td>-0.016</td><td>5.843</td><td>-1.041</td><td>121.81</td><td>-84.1</td><td>-304.41</td><td>113.46</td><td>0.00011</td><td>4.18</td><td>5</td><td>4.55</td><td>6417.0</td><td>4.39</td><td>9</td><td>13.9299</td><td>0.735</td><td>4.103</td><td>1.106</td><td>-0.85</td><td>0.259</td><td>239.246033</td><td>-47.994221</td><td>61.609756</td><td>-37.074242</td><td>9.4156</td><td>-11.222</td><td>-5.4148</td><td>-6.9815</td><td>0.0</td><td>0.0</td><td>1.0</td><td>1.0</td><td>2.0</td><td>0.0</td><td>0.1</td><td>0.1</td><td>50.0</td><td>0.1</td><td>0.1</td><td>0.02</td><td>0.0</td><td>0.0</td><td>0.0</td><td>0.0</td><td>0.0</td></tr>\n",
              "<tr><td>19.977</td><td>1.053</td><td>0.351</td><td>0.126</td><td>0.024</td><td>1.116</td><td>0.525</td><td>198.55</td><td>-36.11</td><td>-193.43</td><td>-96.64</td><td>0.00011</td><td>5.08</td><td>5</td><td>5.05</td><td>5876.0</td><td>4.51</td><td>11</td><td>12.1398</td><td>0.793</td><td>5.083</td><td>0.824</td><td>-0.875</td><td>0.349</td><td>239.41684</td><td>-47.843449</td><td>61.800999</td><td>-37.186451</td><td>9.4391</td><td>-11.2232</td><td>-5.4538</td><td>-6.9823</td><td>0.0</td><td>0.0</td><td>1.0</td><td>1.0</td><td>2.0</td><td>0.0</td><td>0.1</td><td>0.1</td><td>50.0</td><td>0.1</td><td>0.1</td><td>0.02</td><td>0.0</td><td>0.0</td><td>0.0</td><td>0.0</td><td>0.0</td></tr>\n",
              "<tr><td>20.82</td><td>1.064</td><td>0.389</td><td>0.147</td><td>0.04</td><td>8.056</td><td>-3.523</td><td>164.41</td><td>-26.76</td><td>-346.9</td><td>62.63</td><td>0.00011</td><td>5.92</td><td>5</td><td>5.25</td><td>5700.0</td><td>4.5</td><td>9</td><td>13.962</td><td>0.782</td><td>5.663</td><td>0.667</td><td>-0.909</td><td>0.223</td><td>240.069977</td><td>-47.898548</td><td>61.737289</td><td>-37.625111</td><td>9.4575</td><td>-11.1637</td><td>-5.4951</td><td>-7.0021</td><td>0.0</td><td>0.0</td><td>1.0</td><td>1.0</td><td>2.0</td><td>0.0</td><td>0.1</td><td>0.1</td><td>50.0</td><td>0.1</td><td>0.1</td><td>0.02</td><td>0.0</td><td>0.0</td><td>0.0</td><td>0.0</td><td>0.0</td></tr>\n",
              "<tr><td>20.615</td><td>1.134</td><td>0.399</td><td>0.143</td><td>0.037</td><td>2.464</td><td>-9.499</td><td>257.98</td><td>152.36</td><td>-334.46</td><td>-155.99</td><td>0.00011</td><td>5.7</td><td>5</td><td>5.25</td><td>5709.0</td><td>4.5</td><td>9</td><td>13.9597</td><td>0.705</td><td>5.663</td><td>0.667</td><td>-0.859</td><td>0.284</td><td>239.187347</td><td>-47.60445</td><td>62.097157</td><td>-37.027821</td><td>9.4864</td><td>-11.2763</td><td>-5.4933</td><td>-6.9907</td><td>0.0</td><td>0.0</td><td>1.0</td><td>1.0</td><td>2.0</td><td>0.0</td><td>0.1</td><td>0.1</td><td>50.0</td><td>0.1</td><td>0.1</td><td>0.02</td><td>0.0</td><td>0.0</td><td>0.0</td><td>0.0</td><td>0.0</td></tr>\n",
              "<tr><td>21.814</td><td>1.451</td><td>0.633</td><td>0.249</td><td>0.117</td><td>7.456</td><td>-5.503</td><td>221.39</td><td>-2.78</td><td>-435.17</td><td>48.12</td><td>0.0001</td><td>6.8</td><td>5</td><td>6.2</td><td>4972.0</td><td>4.81</td><td>9</td><td>13.8472</td><td>0.495</td><td>6.704</td><td>0.547</td><td>-1.589</td><td>0.306</td><td>240.608246</td><td>-48.266563</td><td>61.271358</td><td>-37.9846</td><td>9.7181</td><td>-11.1748</td><td>-5.6363</td><td>-7.2371</td><td>0.0</td><td>0.0</td><td>1.0</td><td>1.0</td><td>2.0</td><td>0.0</td><td>0.1</td><td>0.1</td><td>50.0</td><td>0.1</td><td>0.1</td><td>0.02</td><td>0.0</td><td>0.0</td><td>0.0</td><td>0.0</td><td>0.0</td></tr>\n",
              "<tr><td>20.753</td><td>0.96</td><td>0.375</td><td>0.153</td><td>0.046</td><td>1.652</td><td>1.456</td><td>357.54</td><td>-220.27</td><td>-236.71</td><td>-201.45</td><td>0.0001</td><td>5.76</td><td>5</td><td>5.25</td><td>5711.0</td><td>4.67</td><td>9</td><td>13.9115</td><td>0.701</td><td>5.663</td><td>0.667</td><td>-1.644</td><td>0.242</td><td>240.299576</td><td>-47.84864</td><td>61.801247</td><td>-37.778896</td><td>9.8644</td><td>-11.2799</td><td>-5.7502</td><td>-7.2982</td><td>0.0</td><td>0.0</td><td>1.0</td><td>1.0</td><td>2.0</td><td>0.0</td><td>0.1</td><td>0.1</td><td>50.0</td><td>0.1</td><td>0.1</td><td>0.02</td><td>0.0</td><td>0.0</td><td>0.0</td><td>0.0</td><td>0.0</td></tr>\n",
              "<tr><td>19.936</td><td>0.887</td><td>0.271</td><td>0.105</td><td>0.01</td><td>4.832</td><td>-1.314</td><td>174.15</td><td>-26.75</td><td>-250.16</td><td>-34.99</td><td>0.0001</td><td>4.96</td><td>5</td><td>4.8</td><td>6069.0</td><td>4.49</td><td>9</td><td>13.9431</td><td>0.787</td><td>4.889</td><td>0.829</td><td>-1.25</td><td>0.186</td><td>239.432755</td><td>-48.543755</td><td>60.922035</td><td>-37.204109</td><td>9.8687</td><td>-11.3227</td><td>-5.6256</td><td>-7.3812</td><td>0.0</td><td>0.0</td><td>1.0</td><td>1.0</td><td>2.0</td><td>0.0</td><td>0.1</td><td>0.1</td><td>50.0</td><td>0.1</td><td>0.1</td><td>0.02</td><td>0.0</td><td>0.0</td><td>0.0</td><td>0.0</td><td>0.0</td></tr>\n",
              "<tr><td>21.008</td><td>1.186</td><td>0.463</td><td>0.175</td><td>0.062</td><td>2.6</td><td>-4.506</td><td>208.84</td><td>50.73</td><td>-298.05</td><td>-68.34</td><td>0.0001</td><td>5.99</td><td>5</td><td>5.55</td><td>5413.0</td><td>4.56</td><td>9</td><td>13.9816</td><td>0.827</td><td>6.03</td><td>0.614</td><td>-1.149</td><td>0.267</td><td>240.302887</td><td>-47.829922</td><td>61.824932</td><td>-37.781048</td><td>9.9193</td><td>-11.2991</td><td>-5.7845</td><td>-7.3368</td><td>0.0</td><td>0.0</td><td>1.0</td><td>1.0</td><td>2.0</td><td>0.0</td><td>0.1</td><td>0.1</td><td>50.0</td><td>0.1</td><td>0.1</td><td>0.02</td><td>0.0</td><td>0.0</td><td>0.0</td><td>0.0</td><td>0.0</td></tr>\n",
              "</table></div>"
            ],
            "text/plain": [
              "<Table length=2230>\n",
              "   g      u-g     g-r     r-i   ... errBand_u errBand_r errBand_i errBand_z\n",
              "float64 float64 float64 float64 ...  float64   float64   float64   float64 \n",
              "------- ------- ------- ------- ... --------- --------- --------- ---------\n",
              " 20.249   3.194   1.457   1.398 ...       0.0       0.0       0.0       0.0\n",
              " 18.951   2.959   1.391   1.331 ...       0.0       0.0       0.0       0.0\n",
              " 16.593   2.928   1.304   0.995 ...       0.0       0.0       0.0       0.0\n",
              " 18.055   3.062   1.345   1.178 ...       0.0       0.0       0.0       0.0\n",
              " 18.001   3.051   1.324   1.087 ...       0.0       0.0       0.0       0.0\n",
              "  21.15   3.184   1.446   1.441 ...       0.0       0.0       0.0       0.0\n",
              " 20.483    3.19   1.466   1.358 ...       0.0       0.0       0.0       0.0\n",
              " 20.201   3.054   1.419   1.365 ...       0.0       0.0       0.0       0.0\n",
              " 19.729   3.077   1.456   1.259 ...       0.0       0.0       0.0       0.0\n",
              " 18.354   3.062   1.345   1.178 ...       0.0       0.0       0.0       0.0\n",
              "    ...     ...     ...     ... ...       ...       ...       ...       ...\n",
              " 21.841   1.447   0.633   0.249 ...       0.0       0.0       0.0       0.0\n",
              " 21.657   1.331   0.547    0.21 ...       0.0       0.0       0.0       0.0\n",
              " 19.045   0.956   0.216   0.069 ...       0.0       0.0       0.0       0.0\n",
              " 19.977   1.053   0.351   0.126 ...       0.0       0.0       0.0       0.0\n",
              "  20.82   1.064   0.389   0.147 ...       0.0       0.0       0.0       0.0\n",
              " 20.615   1.134   0.399   0.143 ...       0.0       0.0       0.0       0.0\n",
              " 21.814   1.451   0.633   0.249 ...       0.0       0.0       0.0       0.0\n",
              " 20.753    0.96   0.375   0.153 ...       0.0       0.0       0.0       0.0\n",
              " 19.936   0.887   0.271   0.105 ...       0.0       0.0       0.0       0.0\n",
              " 21.008   1.186   0.463   0.175 ...       0.0       0.0       0.0       0.0"
            ]
          },
          "metadata": {},
          "execution_count": 36
        }
      ]
    },
    {
      "cell_type": "markdown",
      "metadata": {
        "id": "2kTDSZaTVYut"
      },
      "source": [
        "...which means you can do fun things, like plot it."
      ]
    },
    {
      "cell_type": "code",
      "metadata": {
        "colab": {
          "base_uri": "https://localhost:8080/",
          "height": 283
        },
        "id": "Hy5id0ksVYL-",
        "outputId": "aeaaa3cd-1bb9-4c74-a833-cf13595efc1e"
      },
      "source": [
        "fig,ax=plt.subplots(1,2,figsize=(10,4))\n",
        "ax[0].hist2d(model['g-r']-model['r-i'], model['g'],bins=50,norm=colors.LogNorm())\n",
        "ax[0].set_xlabel('g $-$ i')\n",
        "ax[0].set_ylabel('g')\n",
        "ax[0].invert_yaxis()\n",
        "ax[1].hist2d(model['g-r'], model['r-i'],bins=50,norm=colors.LogNorm())\n",
        "ax[1].set_xlabel('g $-$ r')\n",
        "ax[1].set_ylabel('r $-$ i')\n",
        "plt.show()"
      ],
      "execution_count": 38,
      "outputs": [
        {
          "output_type": "display_data",
          "data": {
            "image/png": "[encoded data removed]",
            "text/plain": [
              "<Figure size 720x288 with 2 Axes>"
            ]
          },
          "metadata": {
            "needs_background": "light"
          }
        }
      ]
    },
    {
      "cell_type": "markdown",
      "metadata": {
        "id": "jH_yZwfgVgPR"
      },
      "source": [
        "If you like your model, you should save it to disk before the output expires on the Besançon servers.  "
      ]
    },
    {
      "cell_type": "code",
      "metadata": {
        "id": "DJtUKrNzQpI5"
      },
      "source": [
        "from google.colab import files\n",
        "\n",
        "ascii.write(model,'output.txt',overwrite=True)\n",
        "\n",
        "files.download('output.txt')"
      ],
      "execution_count": null,
      "outputs": []
    },
    {
      "cell_type": "markdown",
      "metadata": {
        "id": "XELCzFqkyJnJ"
      },
      "source": [
        "To learn more how to work with files on your local machine or on your Google drive instead of just on the ephemeral workspace that opens with Colab, check out the examples at https://colab.research.google.com/notebooks/io.ipynb."
      ]
    }
  ]
}